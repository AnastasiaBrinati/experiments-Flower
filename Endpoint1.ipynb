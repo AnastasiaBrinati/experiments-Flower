{
  "nbformat": 4,
  "nbformat_minor": 0,
  "metadata": {
    "colab": {
      "provenance": [],
      "authorship_tag": "ABX9TyOBf01F0r6MIRcx1T/BOilJ",
      "include_colab_link": true
    },
    "kernelspec": {
      "name": "python3",
      "display_name": "Python 3"
    },
    "language_info": {
      "name": "python"
    },
    "widgets": {
      "application/vnd.jupyter.widget-state+json": {
        "f0f74fdc558b452093b74744359f4eed": {
          "model_module": "@jupyter-widgets/controls",
          "model_name": "HBoxModel",
          "model_module_version": "1.5.0",
          "state": {
            "_dom_classes": [],
            "_model_module": "@jupyter-widgets/controls",
            "_model_module_version": "1.5.0",
            "_model_name": "HBoxModel",
            "_view_count": null,
            "_view_module": "@jupyter-widgets/controls",
            "_view_module_version": "1.5.0",
            "_view_name": "HBoxView",
            "box_style": "",
            "children": [
              "IPY_MODEL_e814bf0e4ebc4d5389aa86e305d78203",
              "IPY_MODEL_5496b29adb624bf188e13055f1090ab1",
              "IPY_MODEL_ed79e90c7dd647aba9bc2ce385e8deef"
            ],
            "layout": "IPY_MODEL_54ea63c0285544c083f9bc8d0a02274c"
          }
        },
        "e814bf0e4ebc4d5389aa86e305d78203": {
          "model_module": "@jupyter-widgets/controls",
          "model_name": "HTMLModel",
          "model_module_version": "1.5.0",
          "state": {
            "_dom_classes": [],
            "_model_module": "@jupyter-widgets/controls",
            "_model_module_version": "1.5.0",
            "_model_name": "HTMLModel",
            "_view_count": null,
            "_view_module": "@jupyter-widgets/controls",
            "_view_module_version": "1.5.0",
            "_view_name": "HTMLView",
            "description": "",
            "description_tooltip": null,
            "layout": "IPY_MODEL_cd34a3dd488d400980deafc59aa64296",
            "placeholder": "​",
            "style": "IPY_MODEL_f16f1a32328c45ac9296368ecd9391a3",
            "value": "train-00000-of-00001.parquet: 100%"
          }
        },
        "5496b29adb624bf188e13055f1090ab1": {
          "model_module": "@jupyter-widgets/controls",
          "model_name": "FloatProgressModel",
          "model_module_version": "1.5.0",
          "state": {
            "_dom_classes": [],
            "_model_module": "@jupyter-widgets/controls",
            "_model_module_version": "1.5.0",
            "_model_name": "FloatProgressModel",
            "_view_count": null,
            "_view_module": "@jupyter-widgets/controls",
            "_view_module_version": "1.5.0",
            "_view_name": "ProgressView",
            "bar_style": "success",
            "description": "",
            "description_tooltip": null,
            "layout": "IPY_MODEL_ced9b524aa924145a6ed1a148cd2dbf1",
            "max": 8573880,
            "min": 0,
            "orientation": "horizontal",
            "style": "IPY_MODEL_db596786adbc4febbaa98c6a9cd35afa",
            "value": 8573880
          }
        },
        "ed79e90c7dd647aba9bc2ce385e8deef": {
          "model_module": "@jupyter-widgets/controls",
          "model_name": "HTMLModel",
          "model_module_version": "1.5.0",
          "state": {
            "_dom_classes": [],
            "_model_module": "@jupyter-widgets/controls",
            "_model_module_version": "1.5.0",
            "_model_name": "HTMLModel",
            "_view_count": null,
            "_view_module": "@jupyter-widgets/controls",
            "_view_module_version": "1.5.0",
            "_view_name": "HTMLView",
            "description": "",
            "description_tooltip": null,
            "layout": "IPY_MODEL_27ed47fbb07b41ed934fd97119ac0d51",
            "placeholder": "​",
            "style": "IPY_MODEL_124817f71e11451bbf194e198e7005f9",
            "value": " 8.57M/8.57M [00:00&lt;00:00, 14.8MB/s]"
          }
        },
        "54ea63c0285544c083f9bc8d0a02274c": {
          "model_module": "@jupyter-widgets/base",
          "model_name": "LayoutModel",
          "model_module_version": "1.2.0",
          "state": {
            "_model_module": "@jupyter-widgets/base",
            "_model_module_version": "1.2.0",
            "_model_name": "LayoutModel",
            "_view_count": null,
            "_view_module": "@jupyter-widgets/base",
            "_view_module_version": "1.2.0",
            "_view_name": "LayoutView",
            "align_content": null,
            "align_items": null,
            "align_self": null,
            "border": null,
            "bottom": null,
            "display": null,
            "flex": null,
            "flex_flow": null,
            "grid_area": null,
            "grid_auto_columns": null,
            "grid_auto_flow": null,
            "grid_auto_rows": null,
            "grid_column": null,
            "grid_gap": null,
            "grid_row": null,
            "grid_template_areas": null,
            "grid_template_columns": null,
            "grid_template_rows": null,
            "height": null,
            "justify_content": null,
            "justify_items": null,
            "left": null,
            "margin": null,
            "max_height": null,
            "max_width": null,
            "min_height": null,
            "min_width": null,
            "object_fit": null,
            "object_position": null,
            "order": null,
            "overflow": null,
            "overflow_x": null,
            "overflow_y": null,
            "padding": null,
            "right": null,
            "top": null,
            "visibility": null,
            "width": null
          }
        },
        "cd34a3dd488d400980deafc59aa64296": {
          "model_module": "@jupyter-widgets/base",
          "model_name": "LayoutModel",
          "model_module_version": "1.2.0",
          "state": {
            "_model_module": "@jupyter-widgets/base",
            "_model_module_version": "1.2.0",
            "_model_name": "LayoutModel",
            "_view_count": null,
            "_view_module": "@jupyter-widgets/base",
            "_view_module_version": "1.2.0",
            "_view_name": "LayoutView",
            "align_content": null,
            "align_items": null,
            "align_self": null,
            "border": null,
            "bottom": null,
            "display": null,
            "flex": null,
            "flex_flow": null,
            "grid_area": null,
            "grid_auto_columns": null,
            "grid_auto_flow": null,
            "grid_auto_rows": null,
            "grid_column": null,
            "grid_gap": null,
            "grid_row": null,
            "grid_template_areas": null,
            "grid_template_columns": null,
            "grid_template_rows": null,
            "height": null,
            "justify_content": null,
            "justify_items": null,
            "left": null,
            "margin": null,
            "max_height": null,
            "max_width": null,
            "min_height": null,
            "min_width": null,
            "object_fit": null,
            "object_position": null,
            "order": null,
            "overflow": null,
            "overflow_x": null,
            "overflow_y": null,
            "padding": null,
            "right": null,
            "top": null,
            "visibility": null,
            "width": null
          }
        },
        "f16f1a32328c45ac9296368ecd9391a3": {
          "model_module": "@jupyter-widgets/controls",
          "model_name": "DescriptionStyleModel",
          "model_module_version": "1.5.0",
          "state": {
            "_model_module": "@jupyter-widgets/controls",
            "_model_module_version": "1.5.0",
            "_model_name": "DescriptionStyleModel",
            "_view_count": null,
            "_view_module": "@jupyter-widgets/base",
            "_view_module_version": "1.2.0",
            "_view_name": "StyleView",
            "description_width": ""
          }
        },
        "ced9b524aa924145a6ed1a148cd2dbf1": {
          "model_module": "@jupyter-widgets/base",
          "model_name": "LayoutModel",
          "model_module_version": "1.2.0",
          "state": {
            "_model_module": "@jupyter-widgets/base",
            "_model_module_version": "1.2.0",
            "_model_name": "LayoutModel",
            "_view_count": null,
            "_view_module": "@jupyter-widgets/base",
            "_view_module_version": "1.2.0",
            "_view_name": "LayoutView",
            "align_content": null,
            "align_items": null,
            "align_self": null,
            "border": null,
            "bottom": null,
            "display": null,
            "flex": null,
            "flex_flow": null,
            "grid_area": null,
            "grid_auto_columns": null,
            "grid_auto_flow": null,
            "grid_auto_rows": null,
            "grid_column": null,
            "grid_gap": null,
            "grid_row": null,
            "grid_template_areas": null,
            "grid_template_columns": null,
            "grid_template_rows": null,
            "height": null,
            "justify_content": null,
            "justify_items": null,
            "left": null,
            "margin": null,
            "max_height": null,
            "max_width": null,
            "min_height": null,
            "min_width": null,
            "object_fit": null,
            "object_position": null,
            "order": null,
            "overflow": null,
            "overflow_x": null,
            "overflow_y": null,
            "padding": null,
            "right": null,
            "top": null,
            "visibility": null,
            "width": null
          }
        },
        "db596786adbc4febbaa98c6a9cd35afa": {
          "model_module": "@jupyter-widgets/controls",
          "model_name": "ProgressStyleModel",
          "model_module_version": "1.5.0",
          "state": {
            "_model_module": "@jupyter-widgets/controls",
            "_model_module_version": "1.5.0",
            "_model_name": "ProgressStyleModel",
            "_view_count": null,
            "_view_module": "@jupyter-widgets/base",
            "_view_module_version": "1.2.0",
            "_view_name": "StyleView",
            "bar_color": null,
            "description_width": ""
          }
        },
        "27ed47fbb07b41ed934fd97119ac0d51": {
          "model_module": "@jupyter-widgets/base",
          "model_name": "LayoutModel",
          "model_module_version": "1.2.0",
          "state": {
            "_model_module": "@jupyter-widgets/base",
            "_model_module_version": "1.2.0",
            "_model_name": "LayoutModel",
            "_view_count": null,
            "_view_module": "@jupyter-widgets/base",
            "_view_module_version": "1.2.0",
            "_view_name": "LayoutView",
            "align_content": null,
            "align_items": null,
            "align_self": null,
            "border": null,
            "bottom": null,
            "display": null,
            "flex": null,
            "flex_flow": null,
            "grid_area": null,
            "grid_auto_columns": null,
            "grid_auto_flow": null,
            "grid_auto_rows": null,
            "grid_column": null,
            "grid_gap": null,
            "grid_row": null,
            "grid_template_areas": null,
            "grid_template_columns": null,
            "grid_template_rows": null,
            "height": null,
            "justify_content": null,
            "justify_items": null,
            "left": null,
            "margin": null,
            "max_height": null,
            "max_width": null,
            "min_height": null,
            "min_width": null,
            "object_fit": null,
            "object_position": null,
            "order": null,
            "overflow": null,
            "overflow_x": null,
            "overflow_y": null,
            "padding": null,
            "right": null,
            "top": null,
            "visibility": null,
            "width": null
          }
        },
        "124817f71e11451bbf194e198e7005f9": {
          "model_module": "@jupyter-widgets/controls",
          "model_name": "DescriptionStyleModel",
          "model_module_version": "1.5.0",
          "state": {
            "_model_module": "@jupyter-widgets/controls",
            "_model_module_version": "1.5.0",
            "_model_name": "DescriptionStyleModel",
            "_view_count": null,
            "_view_module": "@jupyter-widgets/base",
            "_view_module_version": "1.2.0",
            "_view_name": "StyleView",
            "description_width": ""
          }
        },
        "93eb0ddeaa8848e6b16790ce37d63a44": {
          "model_module": "@jupyter-widgets/controls",
          "model_name": "HBoxModel",
          "model_module_version": "1.5.0",
          "state": {
            "_dom_classes": [],
            "_model_module": "@jupyter-widgets/controls",
            "_model_module_version": "1.5.0",
            "_model_name": "HBoxModel",
            "_view_count": null,
            "_view_module": "@jupyter-widgets/controls",
            "_view_module_version": "1.5.0",
            "_view_name": "HBoxView",
            "box_style": "",
            "children": [
              "IPY_MODEL_3a77ed43d5a441768002b417e5957952",
              "IPY_MODEL_22ef3ecd7dcb4ddcac573cce591392c7",
              "IPY_MODEL_00c588886c874080ab1ba4d526eb628b"
            ],
            "layout": "IPY_MODEL_21a54b0719604655bdfd95f168258f71"
          }
        },
        "3a77ed43d5a441768002b417e5957952": {
          "model_module": "@jupyter-widgets/controls",
          "model_name": "HTMLModel",
          "model_module_version": "1.5.0",
          "state": {
            "_dom_classes": [],
            "_model_module": "@jupyter-widgets/controls",
            "_model_module_version": "1.5.0",
            "_model_name": "HTMLModel",
            "_view_count": null,
            "_view_module": "@jupyter-widgets/controls",
            "_view_module_version": "1.5.0",
            "_view_name": "HTMLView",
            "description": "",
            "description_tooltip": null,
            "layout": "IPY_MODEL_b71494616e7e4c2bb197b774833061fb",
            "placeholder": "​",
            "style": "IPY_MODEL_8997894970534aaab9fdb45da1cd2b75",
            "value": "test-00000-of-00001.parquet: 100%"
          }
        },
        "22ef3ecd7dcb4ddcac573cce591392c7": {
          "model_module": "@jupyter-widgets/controls",
          "model_name": "FloatProgressModel",
          "model_module_version": "1.5.0",
          "state": {
            "_dom_classes": [],
            "_model_module": "@jupyter-widgets/controls",
            "_model_module_version": "1.5.0",
            "_model_name": "FloatProgressModel",
            "_view_count": null,
            "_view_module": "@jupyter-widgets/controls",
            "_view_module_version": "1.5.0",
            "_view_name": "ProgressView",
            "bar_style": "success",
            "description": "",
            "description_tooltip": null,
            "layout": "IPY_MODEL_5d3850b1fb12488da02067f2b632bd98",
            "max": 471051,
            "min": 0,
            "orientation": "horizontal",
            "style": "IPY_MODEL_9f3ce6e134d948f79a95a365fcbee742",
            "value": 471051
          }
        },
        "00c588886c874080ab1ba4d526eb628b": {
          "model_module": "@jupyter-widgets/controls",
          "model_name": "HTMLModel",
          "model_module_version": "1.5.0",
          "state": {
            "_dom_classes": [],
            "_model_module": "@jupyter-widgets/controls",
            "_model_module_version": "1.5.0",
            "_model_name": "HTMLModel",
            "_view_count": null,
            "_view_module": "@jupyter-widgets/controls",
            "_view_module_version": "1.5.0",
            "_view_name": "HTMLView",
            "description": "",
            "description_tooltip": null,
            "layout": "IPY_MODEL_49310169b207496397e2db17d43ac908",
            "placeholder": "​",
            "style": "IPY_MODEL_989d58d6fca74a86996f5845603e20eb",
            "value": " 471k/471k [00:00&lt;00:00, 3.87MB/s]"
          }
        },
        "21a54b0719604655bdfd95f168258f71": {
          "model_module": "@jupyter-widgets/base",
          "model_name": "LayoutModel",
          "model_module_version": "1.2.0",
          "state": {
            "_model_module": "@jupyter-widgets/base",
            "_model_module_version": "1.2.0",
            "_model_name": "LayoutModel",
            "_view_count": null,
            "_view_module": "@jupyter-widgets/base",
            "_view_module_version": "1.2.0",
            "_view_name": "LayoutView",
            "align_content": null,
            "align_items": null,
            "align_self": null,
            "border": null,
            "bottom": null,
            "display": null,
            "flex": null,
            "flex_flow": null,
            "grid_area": null,
            "grid_auto_columns": null,
            "grid_auto_flow": null,
            "grid_auto_rows": null,
            "grid_column": null,
            "grid_gap": null,
            "grid_row": null,
            "grid_template_areas": null,
            "grid_template_columns": null,
            "grid_template_rows": null,
            "height": null,
            "justify_content": null,
            "justify_items": null,
            "left": null,
            "margin": null,
            "max_height": null,
            "max_width": null,
            "min_height": null,
            "min_width": null,
            "object_fit": null,
            "object_position": null,
            "order": null,
            "overflow": null,
            "overflow_x": null,
            "overflow_y": null,
            "padding": null,
            "right": null,
            "top": null,
            "visibility": null,
            "width": null
          }
        },
        "b71494616e7e4c2bb197b774833061fb": {
          "model_module": "@jupyter-widgets/base",
          "model_name": "LayoutModel",
          "model_module_version": "1.2.0",
          "state": {
            "_model_module": "@jupyter-widgets/base",
            "_model_module_version": "1.2.0",
            "_model_name": "LayoutModel",
            "_view_count": null,
            "_view_module": "@jupyter-widgets/base",
            "_view_module_version": "1.2.0",
            "_view_name": "LayoutView",
            "align_content": null,
            "align_items": null,
            "align_self": null,
            "border": null,
            "bottom": null,
            "display": null,
            "flex": null,
            "flex_flow": null,
            "grid_area": null,
            "grid_auto_columns": null,
            "grid_auto_flow": null,
            "grid_auto_rows": null,
            "grid_column": null,
            "grid_gap": null,
            "grid_row": null,
            "grid_template_areas": null,
            "grid_template_columns": null,
            "grid_template_rows": null,
            "height": null,
            "justify_content": null,
            "justify_items": null,
            "left": null,
            "margin": null,
            "max_height": null,
            "max_width": null,
            "min_height": null,
            "min_width": null,
            "object_fit": null,
            "object_position": null,
            "order": null,
            "overflow": null,
            "overflow_x": null,
            "overflow_y": null,
            "padding": null,
            "right": null,
            "top": null,
            "visibility": null,
            "width": null
          }
        },
        "8997894970534aaab9fdb45da1cd2b75": {
          "model_module": "@jupyter-widgets/controls",
          "model_name": "DescriptionStyleModel",
          "model_module_version": "1.5.0",
          "state": {
            "_model_module": "@jupyter-widgets/controls",
            "_model_module_version": "1.5.0",
            "_model_name": "DescriptionStyleModel",
            "_view_count": null,
            "_view_module": "@jupyter-widgets/base",
            "_view_module_version": "1.2.0",
            "_view_name": "StyleView",
            "description_width": ""
          }
        },
        "5d3850b1fb12488da02067f2b632bd98": {
          "model_module": "@jupyter-widgets/base",
          "model_name": "LayoutModel",
          "model_module_version": "1.2.0",
          "state": {
            "_model_module": "@jupyter-widgets/base",
            "_model_module_version": "1.2.0",
            "_model_name": "LayoutModel",
            "_view_count": null,
            "_view_module": "@jupyter-widgets/base",
            "_view_module_version": "1.2.0",
            "_view_name": "LayoutView",
            "align_content": null,
            "align_items": null,
            "align_self": null,
            "border": null,
            "bottom": null,
            "display": null,
            "flex": null,
            "flex_flow": null,
            "grid_area": null,
            "grid_auto_columns": null,
            "grid_auto_flow": null,
            "grid_auto_rows": null,
            "grid_column": null,
            "grid_gap": null,
            "grid_row": null,
            "grid_template_areas": null,
            "grid_template_columns": null,
            "grid_template_rows": null,
            "height": null,
            "justify_content": null,
            "justify_items": null,
            "left": null,
            "margin": null,
            "max_height": null,
            "max_width": null,
            "min_height": null,
            "min_width": null,
            "object_fit": null,
            "object_position": null,
            "order": null,
            "overflow": null,
            "overflow_x": null,
            "overflow_y": null,
            "padding": null,
            "right": null,
            "top": null,
            "visibility": null,
            "width": null
          }
        },
        "9f3ce6e134d948f79a95a365fcbee742": {
          "model_module": "@jupyter-widgets/controls",
          "model_name": "ProgressStyleModel",
          "model_module_version": "1.5.0",
          "state": {
            "_model_module": "@jupyter-widgets/controls",
            "_model_module_version": "1.5.0",
            "_model_name": "ProgressStyleModel",
            "_view_count": null,
            "_view_module": "@jupyter-widgets/base",
            "_view_module_version": "1.2.0",
            "_view_name": "StyleView",
            "bar_color": null,
            "description_width": ""
          }
        },
        "49310169b207496397e2db17d43ac908": {
          "model_module": "@jupyter-widgets/base",
          "model_name": "LayoutModel",
          "model_module_version": "1.2.0",
          "state": {
            "_model_module": "@jupyter-widgets/base",
            "_model_module_version": "1.2.0",
            "_model_name": "LayoutModel",
            "_view_count": null,
            "_view_module": "@jupyter-widgets/base",
            "_view_module_version": "1.2.0",
            "_view_name": "LayoutView",
            "align_content": null,
            "align_items": null,
            "align_self": null,
            "border": null,
            "bottom": null,
            "display": null,
            "flex": null,
            "flex_flow": null,
            "grid_area": null,
            "grid_auto_columns": null,
            "grid_auto_flow": null,
            "grid_auto_rows": null,
            "grid_column": null,
            "grid_gap": null,
            "grid_row": null,
            "grid_template_areas": null,
            "grid_template_columns": null,
            "grid_template_rows": null,
            "height": null,
            "justify_content": null,
            "justify_items": null,
            "left": null,
            "margin": null,
            "max_height": null,
            "max_width": null,
            "min_height": null,
            "min_width": null,
            "object_fit": null,
            "object_position": null,
            "order": null,
            "overflow": null,
            "overflow_x": null,
            "overflow_y": null,
            "padding": null,
            "right": null,
            "top": null,
            "visibility": null,
            "width": null
          }
        },
        "989d58d6fca74a86996f5845603e20eb": {
          "model_module": "@jupyter-widgets/controls",
          "model_name": "DescriptionStyleModel",
          "model_module_version": "1.5.0",
          "state": {
            "_model_module": "@jupyter-widgets/controls",
            "_model_module_version": "1.5.0",
            "_model_name": "DescriptionStyleModel",
            "_view_count": null,
            "_view_module": "@jupyter-widgets/base",
            "_view_module_version": "1.2.0",
            "_view_name": "StyleView",
            "description_width": ""
          }
        },
        "6101b41c59df4bda9e8431b245830428": {
          "model_module": "@jupyter-widgets/controls",
          "model_name": "HBoxModel",
          "model_module_version": "1.5.0",
          "state": {
            "_dom_classes": [],
            "_model_module": "@jupyter-widgets/controls",
            "_model_module_version": "1.5.0",
            "_model_name": "HBoxModel",
            "_view_count": null,
            "_view_module": "@jupyter-widgets/controls",
            "_view_module_version": "1.5.0",
            "_view_name": "HBoxView",
            "box_style": "",
            "children": [
              "IPY_MODEL_6ee3c7e01b0643fcad4821aa4064bc49",
              "IPY_MODEL_58bfc708d43d40c9b2e5ff60688eefa2",
              "IPY_MODEL_c840c8dca86c4e8e87a93dcaac69ee84"
            ],
            "layout": "IPY_MODEL_47fc5f861b954965a2a6e161766a3cc3"
          }
        },
        "6ee3c7e01b0643fcad4821aa4064bc49": {
          "model_module": "@jupyter-widgets/controls",
          "model_name": "HTMLModel",
          "model_module_version": "1.5.0",
          "state": {
            "_dom_classes": [],
            "_model_module": "@jupyter-widgets/controls",
            "_model_module_version": "1.5.0",
            "_model_name": "HTMLModel",
            "_view_count": null,
            "_view_module": "@jupyter-widgets/controls",
            "_view_module_version": "1.5.0",
            "_view_name": "HTMLView",
            "description": "",
            "description_tooltip": null,
            "layout": "IPY_MODEL_16b5631051684e36b6d6d48c148ca2b9",
            "placeholder": "​",
            "style": "IPY_MODEL_a201d8dda51e410abfde36f99eda8217",
            "value": "Generating train split: 100%"
          }
        },
        "58bfc708d43d40c9b2e5ff60688eefa2": {
          "model_module": "@jupyter-widgets/controls",
          "model_name": "FloatProgressModel",
          "model_module_version": "1.5.0",
          "state": {
            "_dom_classes": [],
            "_model_module": "@jupyter-widgets/controls",
            "_model_module_version": "1.5.0",
            "_model_name": "FloatProgressModel",
            "_view_count": null,
            "_view_module": "@jupyter-widgets/controls",
            "_view_module_version": "1.5.0",
            "_view_name": "ProgressView",
            "bar_style": "success",
            "description": "",
            "description_tooltip": null,
            "layout": "IPY_MODEL_f15f1df5c899432981e5eb73ba1f64b1",
            "max": 117440,
            "min": 0,
            "orientation": "horizontal",
            "style": "IPY_MODEL_d56fba097edc433996c7964416a4dfeb",
            "value": 117440
          }
        },
        "c840c8dca86c4e8e87a93dcaac69ee84": {
          "model_module": "@jupyter-widgets/controls",
          "model_name": "HTMLModel",
          "model_module_version": "1.5.0",
          "state": {
            "_dom_classes": [],
            "_model_module": "@jupyter-widgets/controls",
            "_model_module_version": "1.5.0",
            "_model_name": "HTMLModel",
            "_view_count": null,
            "_view_module": "@jupyter-widgets/controls",
            "_view_module_version": "1.5.0",
            "_view_name": "HTMLView",
            "description": "",
            "description_tooltip": null,
            "layout": "IPY_MODEL_de6544049686409cac1550ab61605e22",
            "placeholder": "​",
            "style": "IPY_MODEL_900016fbecdf4baa9fedbb90afda2f67",
            "value": " 117440/117440 [00:03&lt;00:00, 35296.43 examples/s]"
          }
        },
        "47fc5f861b954965a2a6e161766a3cc3": {
          "model_module": "@jupyter-widgets/base",
          "model_name": "LayoutModel",
          "model_module_version": "1.2.0",
          "state": {
            "_model_module": "@jupyter-widgets/base",
            "_model_module_version": "1.2.0",
            "_model_name": "LayoutModel",
            "_view_count": null,
            "_view_module": "@jupyter-widgets/base",
            "_view_module_version": "1.2.0",
            "_view_name": "LayoutView",
            "align_content": null,
            "align_items": null,
            "align_self": null,
            "border": null,
            "bottom": null,
            "display": null,
            "flex": null,
            "flex_flow": null,
            "grid_area": null,
            "grid_auto_columns": null,
            "grid_auto_flow": null,
            "grid_auto_rows": null,
            "grid_column": null,
            "grid_gap": null,
            "grid_row": null,
            "grid_template_areas": null,
            "grid_template_columns": null,
            "grid_template_rows": null,
            "height": null,
            "justify_content": null,
            "justify_items": null,
            "left": null,
            "margin": null,
            "max_height": null,
            "max_width": null,
            "min_height": null,
            "min_width": null,
            "object_fit": null,
            "object_position": null,
            "order": null,
            "overflow": null,
            "overflow_x": null,
            "overflow_y": null,
            "padding": null,
            "right": null,
            "top": null,
            "visibility": null,
            "width": null
          }
        },
        "16b5631051684e36b6d6d48c148ca2b9": {
          "model_module": "@jupyter-widgets/base",
          "model_name": "LayoutModel",
          "model_module_version": "1.2.0",
          "state": {
            "_model_module": "@jupyter-widgets/base",
            "_model_module_version": "1.2.0",
            "_model_name": "LayoutModel",
            "_view_count": null,
            "_view_module": "@jupyter-widgets/base",
            "_view_module_version": "1.2.0",
            "_view_name": "LayoutView",
            "align_content": null,
            "align_items": null,
            "align_self": null,
            "border": null,
            "bottom": null,
            "display": null,
            "flex": null,
            "flex_flow": null,
            "grid_area": null,
            "grid_auto_columns": null,
            "grid_auto_flow": null,
            "grid_auto_rows": null,
            "grid_column": null,
            "grid_gap": null,
            "grid_row": null,
            "grid_template_areas": null,
            "grid_template_columns": null,
            "grid_template_rows": null,
            "height": null,
            "justify_content": null,
            "justify_items": null,
            "left": null,
            "margin": null,
            "max_height": null,
            "max_width": null,
            "min_height": null,
            "min_width": null,
            "object_fit": null,
            "object_position": null,
            "order": null,
            "overflow": null,
            "overflow_x": null,
            "overflow_y": null,
            "padding": null,
            "right": null,
            "top": null,
            "visibility": null,
            "width": null
          }
        },
        "a201d8dda51e410abfde36f99eda8217": {
          "model_module": "@jupyter-widgets/controls",
          "model_name": "DescriptionStyleModel",
          "model_module_version": "1.5.0",
          "state": {
            "_model_module": "@jupyter-widgets/controls",
            "_model_module_version": "1.5.0",
            "_model_name": "DescriptionStyleModel",
            "_view_count": null,
            "_view_module": "@jupyter-widgets/base",
            "_view_module_version": "1.2.0",
            "_view_name": "StyleView",
            "description_width": ""
          }
        },
        "f15f1df5c899432981e5eb73ba1f64b1": {
          "model_module": "@jupyter-widgets/base",
          "model_name": "LayoutModel",
          "model_module_version": "1.2.0",
          "state": {
            "_model_module": "@jupyter-widgets/base",
            "_model_module_version": "1.2.0",
            "_model_name": "LayoutModel",
            "_view_count": null,
            "_view_module": "@jupyter-widgets/base",
            "_view_module_version": "1.2.0",
            "_view_name": "LayoutView",
            "align_content": null,
            "align_items": null,
            "align_self": null,
            "border": null,
            "bottom": null,
            "display": null,
            "flex": null,
            "flex_flow": null,
            "grid_area": null,
            "grid_auto_columns": null,
            "grid_auto_flow": null,
            "grid_auto_rows": null,
            "grid_column": null,
            "grid_gap": null,
            "grid_row": null,
            "grid_template_areas": null,
            "grid_template_columns": null,
            "grid_template_rows": null,
            "height": null,
            "justify_content": null,
            "justify_items": null,
            "left": null,
            "margin": null,
            "max_height": null,
            "max_width": null,
            "min_height": null,
            "min_width": null,
            "object_fit": null,
            "object_position": null,
            "order": null,
            "overflow": null,
            "overflow_x": null,
            "overflow_y": null,
            "padding": null,
            "right": null,
            "top": null,
            "visibility": null,
            "width": null
          }
        },
        "d56fba097edc433996c7964416a4dfeb": {
          "model_module": "@jupyter-widgets/controls",
          "model_name": "ProgressStyleModel",
          "model_module_version": "1.5.0",
          "state": {
            "_model_module": "@jupyter-widgets/controls",
            "_model_module_version": "1.5.0",
            "_model_name": "ProgressStyleModel",
            "_view_count": null,
            "_view_module": "@jupyter-widgets/base",
            "_view_module_version": "1.2.0",
            "_view_name": "StyleView",
            "bar_color": null,
            "description_width": ""
          }
        },
        "de6544049686409cac1550ab61605e22": {
          "model_module": "@jupyter-widgets/base",
          "model_name": "LayoutModel",
          "model_module_version": "1.2.0",
          "state": {
            "_model_module": "@jupyter-widgets/base",
            "_model_module_version": "1.2.0",
            "_model_name": "LayoutModel",
            "_view_count": null,
            "_view_module": "@jupyter-widgets/base",
            "_view_module_version": "1.2.0",
            "_view_name": "LayoutView",
            "align_content": null,
            "align_items": null,
            "align_self": null,
            "border": null,
            "bottom": null,
            "display": null,
            "flex": null,
            "flex_flow": null,
            "grid_area": null,
            "grid_auto_columns": null,
            "grid_auto_flow": null,
            "grid_auto_rows": null,
            "grid_column": null,
            "grid_gap": null,
            "grid_row": null,
            "grid_template_areas": null,
            "grid_template_columns": null,
            "grid_template_rows": null,
            "height": null,
            "justify_content": null,
            "justify_items": null,
            "left": null,
            "margin": null,
            "max_height": null,
            "max_width": null,
            "min_height": null,
            "min_width": null,
            "object_fit": null,
            "object_position": null,
            "order": null,
            "overflow": null,
            "overflow_x": null,
            "overflow_y": null,
            "padding": null,
            "right": null,
            "top": null,
            "visibility": null,
            "width": null
          }
        },
        "900016fbecdf4baa9fedbb90afda2f67": {
          "model_module": "@jupyter-widgets/controls",
          "model_name": "DescriptionStyleModel",
          "model_module_version": "1.5.0",
          "state": {
            "_model_module": "@jupyter-widgets/controls",
            "_model_module_version": "1.5.0",
            "_model_name": "DescriptionStyleModel",
            "_view_count": null,
            "_view_module": "@jupyter-widgets/base",
            "_view_module_version": "1.2.0",
            "_view_name": "StyleView",
            "description_width": ""
          }
        },
        "02f9ea6095e3480da1d16b621970e6d7": {
          "model_module": "@jupyter-widgets/controls",
          "model_name": "HBoxModel",
          "model_module_version": "1.5.0",
          "state": {
            "_dom_classes": [],
            "_model_module": "@jupyter-widgets/controls",
            "_model_module_version": "1.5.0",
            "_model_name": "HBoxModel",
            "_view_count": null,
            "_view_module": "@jupyter-widgets/controls",
            "_view_module_version": "1.5.0",
            "_view_name": "HBoxView",
            "box_style": "",
            "children": [
              "IPY_MODEL_ca20735254e541cbb9a75ad40d8a37c5",
              "IPY_MODEL_5e45357cc6aa40149005bdf5e3546b53",
              "IPY_MODEL_f49e434e8bd14c06b405114591c83bf7"
            ],
            "layout": "IPY_MODEL_79d927ca94a244669c6b07bcf25bb3e5"
          }
        },
        "ca20735254e541cbb9a75ad40d8a37c5": {
          "model_module": "@jupyter-widgets/controls",
          "model_name": "HTMLModel",
          "model_module_version": "1.5.0",
          "state": {
            "_dom_classes": [],
            "_model_module": "@jupyter-widgets/controls",
            "_model_module_version": "1.5.0",
            "_model_name": "HTMLModel",
            "_view_count": null,
            "_view_module": "@jupyter-widgets/controls",
            "_view_module_version": "1.5.0",
            "_view_name": "HTMLView",
            "description": "",
            "description_tooltip": null,
            "layout": "IPY_MODEL_37f1283aee314d2da265cbcf48b2bd62",
            "placeholder": "​",
            "style": "IPY_MODEL_13816bd85f1c4164886e15d940b38b9d",
            "value": "Generating test split: 100%"
          }
        },
        "5e45357cc6aa40149005bdf5e3546b53": {
          "model_module": "@jupyter-widgets/controls",
          "model_name": "FloatProgressModel",
          "model_module_version": "1.5.0",
          "state": {
            "_dom_classes": [],
            "_model_module": "@jupyter-widgets/controls",
            "_model_module_version": "1.5.0",
            "_model_name": "FloatProgressModel",
            "_view_count": null,
            "_view_module": "@jupyter-widgets/controls",
            "_view_module_version": "1.5.0",
            "_view_name": "ProgressView",
            "bar_style": "success",
            "description": "",
            "description_tooltip": null,
            "layout": "IPY_MODEL_7545e773b2644c56bec14588a0f3ef63",
            "max": 6694,
            "min": 0,
            "orientation": "horizontal",
            "style": "IPY_MODEL_1710dbc86f3a4c4ebf8402389b0b5cbc",
            "value": 6694
          }
        },
        "f49e434e8bd14c06b405114591c83bf7": {
          "model_module": "@jupyter-widgets/controls",
          "model_name": "HTMLModel",
          "model_module_version": "1.5.0",
          "state": {
            "_dom_classes": [],
            "_model_module": "@jupyter-widgets/controls",
            "_model_module_version": "1.5.0",
            "_model_name": "HTMLModel",
            "_view_count": null,
            "_view_module": "@jupyter-widgets/controls",
            "_view_module_version": "1.5.0",
            "_view_name": "HTMLView",
            "description": "",
            "description_tooltip": null,
            "layout": "IPY_MODEL_cb23d36e1f9d45578d6b42a26c3d6057",
            "placeholder": "​",
            "style": "IPY_MODEL_4633921e74bc4801821cf177a296cad8",
            "value": " 6694/6694 [00:00&lt;00:00, 20862.54 examples/s]"
          }
        },
        "79d927ca94a244669c6b07bcf25bb3e5": {
          "model_module": "@jupyter-widgets/base",
          "model_name": "LayoutModel",
          "model_module_version": "1.2.0",
          "state": {
            "_model_module": "@jupyter-widgets/base",
            "_model_module_version": "1.2.0",
            "_model_name": "LayoutModel",
            "_view_count": null,
            "_view_module": "@jupyter-widgets/base",
            "_view_module_version": "1.2.0",
            "_view_name": "LayoutView",
            "align_content": null,
            "align_items": null,
            "align_self": null,
            "border": null,
            "bottom": null,
            "display": null,
            "flex": null,
            "flex_flow": null,
            "grid_area": null,
            "grid_auto_columns": null,
            "grid_auto_flow": null,
            "grid_auto_rows": null,
            "grid_column": null,
            "grid_gap": null,
            "grid_row": null,
            "grid_template_areas": null,
            "grid_template_columns": null,
            "grid_template_rows": null,
            "height": null,
            "justify_content": null,
            "justify_items": null,
            "left": null,
            "margin": null,
            "max_height": null,
            "max_width": null,
            "min_height": null,
            "min_width": null,
            "object_fit": null,
            "object_position": null,
            "order": null,
            "overflow": null,
            "overflow_x": null,
            "overflow_y": null,
            "padding": null,
            "right": null,
            "top": null,
            "visibility": null,
            "width": null
          }
        },
        "37f1283aee314d2da265cbcf48b2bd62": {
          "model_module": "@jupyter-widgets/base",
          "model_name": "LayoutModel",
          "model_module_version": "1.2.0",
          "state": {
            "_model_module": "@jupyter-widgets/base",
            "_model_module_version": "1.2.0",
            "_model_name": "LayoutModel",
            "_view_count": null,
            "_view_module": "@jupyter-widgets/base",
            "_view_module_version": "1.2.0",
            "_view_name": "LayoutView",
            "align_content": null,
            "align_items": null,
            "align_self": null,
            "border": null,
            "bottom": null,
            "display": null,
            "flex": null,
            "flex_flow": null,
            "grid_area": null,
            "grid_auto_columns": null,
            "grid_auto_flow": null,
            "grid_auto_rows": null,
            "grid_column": null,
            "grid_gap": null,
            "grid_row": null,
            "grid_template_areas": null,
            "grid_template_columns": null,
            "grid_template_rows": null,
            "height": null,
            "justify_content": null,
            "justify_items": null,
            "left": null,
            "margin": null,
            "max_height": null,
            "max_width": null,
            "min_height": null,
            "min_width": null,
            "object_fit": null,
            "object_position": null,
            "order": null,
            "overflow": null,
            "overflow_x": null,
            "overflow_y": null,
            "padding": null,
            "right": null,
            "top": null,
            "visibility": null,
            "width": null
          }
        },
        "13816bd85f1c4164886e15d940b38b9d": {
          "model_module": "@jupyter-widgets/controls",
          "model_name": "DescriptionStyleModel",
          "model_module_version": "1.5.0",
          "state": {
            "_model_module": "@jupyter-widgets/controls",
            "_model_module_version": "1.5.0",
            "_model_name": "DescriptionStyleModel",
            "_view_count": null,
            "_view_module": "@jupyter-widgets/base",
            "_view_module_version": "1.2.0",
            "_view_name": "StyleView",
            "description_width": ""
          }
        },
        "7545e773b2644c56bec14588a0f3ef63": {
          "model_module": "@jupyter-widgets/base",
          "model_name": "LayoutModel",
          "model_module_version": "1.2.0",
          "state": {
            "_model_module": "@jupyter-widgets/base",
            "_model_module_version": "1.2.0",
            "_model_name": "LayoutModel",
            "_view_count": null,
            "_view_module": "@jupyter-widgets/base",
            "_view_module_version": "1.2.0",
            "_view_name": "LayoutView",
            "align_content": null,
            "align_items": null,
            "align_self": null,
            "border": null,
            "bottom": null,
            "display": null,
            "flex": null,
            "flex_flow": null,
            "grid_area": null,
            "grid_auto_columns": null,
            "grid_auto_flow": null,
            "grid_auto_rows": null,
            "grid_column": null,
            "grid_gap": null,
            "grid_row": null,
            "grid_template_areas": null,
            "grid_template_columns": null,
            "grid_template_rows": null,
            "height": null,
            "justify_content": null,
            "justify_items": null,
            "left": null,
            "margin": null,
            "max_height": null,
            "max_width": null,
            "min_height": null,
            "min_width": null,
            "object_fit": null,
            "object_position": null,
            "order": null,
            "overflow": null,
            "overflow_x": null,
            "overflow_y": null,
            "padding": null,
            "right": null,
            "top": null,
            "visibility": null,
            "width": null
          }
        },
        "1710dbc86f3a4c4ebf8402389b0b5cbc": {
          "model_module": "@jupyter-widgets/controls",
          "model_name": "ProgressStyleModel",
          "model_module_version": "1.5.0",
          "state": {
            "_model_module": "@jupyter-widgets/controls",
            "_model_module_version": "1.5.0",
            "_model_name": "ProgressStyleModel",
            "_view_count": null,
            "_view_module": "@jupyter-widgets/base",
            "_view_module_version": "1.2.0",
            "_view_name": "StyleView",
            "bar_color": null,
            "description_width": ""
          }
        },
        "cb23d36e1f9d45578d6b42a26c3d6057": {
          "model_module": "@jupyter-widgets/base",
          "model_name": "LayoutModel",
          "model_module_version": "1.2.0",
          "state": {
            "_model_module": "@jupyter-widgets/base",
            "_model_module_version": "1.2.0",
            "_model_name": "LayoutModel",
            "_view_count": null,
            "_view_module": "@jupyter-widgets/base",
            "_view_module_version": "1.2.0",
            "_view_name": "LayoutView",
            "align_content": null,
            "align_items": null,
            "align_self": null,
            "border": null,
            "bottom": null,
            "display": null,
            "flex": null,
            "flex_flow": null,
            "grid_area": null,
            "grid_auto_columns": null,
            "grid_auto_flow": null,
            "grid_auto_rows": null,
            "grid_column": null,
            "grid_gap": null,
            "grid_row": null,
            "grid_template_areas": null,
            "grid_template_columns": null,
            "grid_template_rows": null,
            "height": null,
            "justify_content": null,
            "justify_items": null,
            "left": null,
            "margin": null,
            "max_height": null,
            "max_width": null,
            "min_height": null,
            "min_width": null,
            "object_fit": null,
            "object_position": null,
            "order": null,
            "overflow": null,
            "overflow_x": null,
            "overflow_y": null,
            "padding": null,
            "right": null,
            "top": null,
            "visibility": null,
            "width": null
          }
        },
        "4633921e74bc4801821cf177a296cad8": {
          "model_module": "@jupyter-widgets/controls",
          "model_name": "DescriptionStyleModel",
          "model_module_version": "1.5.0",
          "state": {
            "_model_module": "@jupyter-widgets/controls",
            "_model_module_version": "1.5.0",
            "_model_name": "DescriptionStyleModel",
            "_view_count": null,
            "_view_module": "@jupyter-widgets/base",
            "_view_module_version": "1.2.0",
            "_view_name": "StyleView",
            "description_width": ""
          }
        }
      }
    }
  },
  "cells": [
    {
      "cell_type": "markdown",
      "metadata": {
        "id": "view-in-github",
        "colab_type": "text"
      },
      "source": [
        "<a href=\"https://colab.research.google.com/github/AnastasiaBrinati/experiments-Flower/blob/main/Endpoint1.ipynb\" target=\"_parent\"><img src=\"https://colab.research.google.com/assets/colab-badge.svg\" alt=\"Open In Colab\"/></a>"
      ]
    },
    {
      "cell_type": "markdown",
      "source": [
        "MODELLO CENTRALIZZATO SU ENDPOINT 1:"
      ],
      "metadata": {
        "id": "cRa-Ex5SXAWo"
      }
    },
    {
      "cell_type": "markdown",
      "source": [
        "imports"
      ],
      "metadata": {
        "id": "L5az4lSjaAcY"
      }
    },
    {
      "cell_type": "code",
      "execution_count": null,
      "metadata": {
        "id": "jI6RD5ncW6ul"
      },
      "outputs": [],
      "source": [
        "import matplotlib.pyplot as plt\n",
        "import numpy as np\n",
        "import pandas as pd\n",
        "import seaborn as sns\n",
        "\n",
        "# Make NumPy printouts easier to read.\n",
        "np.set_printoptions(precision=3, suppress=True)\n",
        "\n",
        "import tensorflow as tf\n",
        "\n",
        "from tensorflow import keras\n",
        "from keras import layers\n",
        "from tensorflow.keras.callbacks import EarlyStopping\n",
        "\n",
        "!pip install -q -U keras-tuner\n",
        "import keras_tuner as kt\n",
        "\n",
        "# Use seaborn for pairplot.\n",
        "!pip install datasets"
      ]
    },
    {
      "cell_type": "markdown",
      "source": [
        "dataset"
      ],
      "metadata": {
        "id": "_HCs9Gl2aCxr"
      }
    },
    {
      "cell_type": "code",
      "source": [
        "from datasets import load_dataset\n",
        "dataset = load_dataset(\"anastasiafrosted/my_sequences_endpoint1\", download_mode=\"force_redownload\")"
      ],
      "metadata": {
        "colab": {
          "base_uri": "https://localhost:8080/",
          "referenced_widgets": [
            "f0f74fdc558b452093b74744359f4eed",
            "e814bf0e4ebc4d5389aa86e305d78203",
            "5496b29adb624bf188e13055f1090ab1",
            "ed79e90c7dd647aba9bc2ce385e8deef",
            "54ea63c0285544c083f9bc8d0a02274c",
            "cd34a3dd488d400980deafc59aa64296",
            "f16f1a32328c45ac9296368ecd9391a3",
            "ced9b524aa924145a6ed1a148cd2dbf1",
            "db596786adbc4febbaa98c6a9cd35afa",
            "27ed47fbb07b41ed934fd97119ac0d51",
            "124817f71e11451bbf194e198e7005f9",
            "93eb0ddeaa8848e6b16790ce37d63a44",
            "3a77ed43d5a441768002b417e5957952",
            "22ef3ecd7dcb4ddcac573cce591392c7",
            "00c588886c874080ab1ba4d526eb628b",
            "21a54b0719604655bdfd95f168258f71",
            "b71494616e7e4c2bb197b774833061fb",
            "8997894970534aaab9fdb45da1cd2b75",
            "5d3850b1fb12488da02067f2b632bd98",
            "9f3ce6e134d948f79a95a365fcbee742",
            "49310169b207496397e2db17d43ac908",
            "989d58d6fca74a86996f5845603e20eb",
            "6101b41c59df4bda9e8431b245830428",
            "6ee3c7e01b0643fcad4821aa4064bc49",
            "58bfc708d43d40c9b2e5ff60688eefa2",
            "c840c8dca86c4e8e87a93dcaac69ee84",
            "47fc5f861b954965a2a6e161766a3cc3",
            "16b5631051684e36b6d6d48c148ca2b9",
            "a201d8dda51e410abfde36f99eda8217",
            "f15f1df5c899432981e5eb73ba1f64b1",
            "d56fba097edc433996c7964416a4dfeb",
            "de6544049686409cac1550ab61605e22",
            "900016fbecdf4baa9fedbb90afda2f67",
            "02f9ea6095e3480da1d16b621970e6d7",
            "ca20735254e541cbb9a75ad40d8a37c5",
            "5e45357cc6aa40149005bdf5e3546b53",
            "f49e434e8bd14c06b405114591c83bf7",
            "79d927ca94a244669c6b07bcf25bb3e5",
            "37f1283aee314d2da265cbcf48b2bd62",
            "13816bd85f1c4164886e15d940b38b9d",
            "7545e773b2644c56bec14588a0f3ef63",
            "1710dbc86f3a4c4ebf8402389b0b5cbc",
            "cb23d36e1f9d45578d6b42a26c3d6057",
            "4633921e74bc4801821cf177a296cad8"
          ],
          "height": 145
        },
        "id": "xB0SRw_ua8Bq",
        "outputId": "fff3f642-4bc5-4d44-b929-9546abe40942"
      },
      "execution_count": 204,
      "outputs": [
        {
          "output_type": "display_data",
          "data": {
            "text/plain": [
              "train-00000-of-00001.parquet:   0%|          | 0.00/8.57M [00:00<?, ?B/s]"
            ],
            "application/vnd.jupyter.widget-view+json": {
              "version_major": 2,
              "version_minor": 0,
              "model_id": "f0f74fdc558b452093b74744359f4eed"
            }
          },
          "metadata": {}
        },
        {
          "output_type": "display_data",
          "data": {
            "text/plain": [
              "test-00000-of-00001.parquet:   0%|          | 0.00/471k [00:00<?, ?B/s]"
            ],
            "application/vnd.jupyter.widget-view+json": {
              "version_major": 2,
              "version_minor": 0,
              "model_id": "93eb0ddeaa8848e6b16790ce37d63a44"
            }
          },
          "metadata": {}
        },
        {
          "output_type": "display_data",
          "data": {
            "text/plain": [
              "Generating train split:   0%|          | 0/117440 [00:00<?, ? examples/s]"
            ],
            "application/vnd.jupyter.widget-view+json": {
              "version_major": 2,
              "version_minor": 0,
              "model_id": "6101b41c59df4bda9e8431b245830428"
            }
          },
          "metadata": {}
        },
        {
          "output_type": "display_data",
          "data": {
            "text/plain": [
              "Generating test split:   0%|          | 0/6694 [00:00<?, ? examples/s]"
            ],
            "application/vnd.jupyter.widget-view+json": {
              "version_major": 2,
              "version_minor": 0,
              "model_id": "02f9ea6095e3480da1d16b621970e6d7"
            }
          },
          "metadata": {}
        }
      ]
    },
    {
      "cell_type": "code",
      "source": [
        "training_set = pd.DataFrame(dataset['train'])\n",
        "test_set = pd.DataFrame(dataset['test'])"
      ],
      "metadata": {
        "id": "EJpm1V1fZ2nt"
      },
      "execution_count": 211,
      "outputs": []
    },
    {
      "cell_type": "code",
      "source": [
        "x_train = training_set.copy()\n",
        "x_test = test_set.copy()"
      ],
      "metadata": {
        "id": "NtJ5XwRurWo-"
      },
      "execution_count": 212,
      "outputs": []
    },
    {
      "cell_type": "code",
      "source": [
        "# Pop two target features into y_train and y_test\n",
        "y_train = x_train[['avg_execution_time_target', 'avg_scheduling_time_target']]\n",
        "y_test = x_test[['avg_execution_time_target', 'avg_scheduling_time_target']]\n",
        "\n",
        "# Save aside timestamps\n",
        "x_train_timestamps = x_train['timestamp_seq']\n",
        "x_test_timestamps = x_test['timestamp_seq']\n",
        "\n",
        "y_train_timestamps = x_train['timestamp_target']\n",
        "y_test_timestamps = x_test['timestamp_target']\n",
        "\n",
        "# Drop the targets from predictors\n",
        "x_train = x_train.drop(['avg_execution_time_target', 'avg_scheduling_time_target', 'timestamp_seq', 'timestamp_target'], axis=1)\n",
        "x_test = x_test.drop(['avg_execution_time_target', 'avg_scheduling_time_target', 'timestamp_seq', 'timestamp_target'], axis=1)\n",
        "\n",
        "columns = x_train.columns.tolist()\n",
        "targets = ['avg_execution_time_target', 'avg_scheduling_time_target']"
      ],
      "metadata": {
        "id": "Zzm5tLqytZDt"
      },
      "execution_count": 213,
      "outputs": []
    },
    {
      "cell_type": "code",
      "source": [
        "# Extract the first value of each list\n",
        "first_values = np.array([timestamps[0] for timestamps in x_test_timestamps[:-1]])\n",
        "print(len(first_values))\n",
        "last_sequence = x_test_timestamps[-1:][1:]\n",
        "timestamps = np.concatenate([first_values, last_sequence])"
      ],
      "metadata": {
        "colab": {
          "base_uri": "https://localhost:8080/"
        },
        "id": "nZ5Ib8_S9Z7l",
        "outputId": "bbd5bb61-52e8-4977-ba44-196dc4bb79c4"
      },
      "execution_count": 214,
      "outputs": [
        {
          "output_type": "stream",
          "name": "stdout",
          "text": [
            "6693\n"
          ]
        }
      ]
    },
    {
      "cell_type": "code",
      "source": [
        "print(timestamps)"
      ],
      "metadata": {
        "colab": {
          "base_uri": "https://localhost:8080/"
        },
        "id": "g01_gYiD_3CF",
        "outputId": "396dee91-5807-4215-b0d2-8d95ab69c6b7"
      },
      "execution_count": 215,
      "outputs": [
        {
          "output_type": "stream",
          "name": "stdout",
          "text": [
            "['2023-06-26:0:0' '2023-06-26:0:1' '2023-06-26:0:10' ... '2023-07-03:1:48'\n",
            " '2023-07-03:1:49' '2023-07-03:1:5']\n"
          ]
        }
      ]
    },
    {
      "cell_type": "code",
      "source": [
        "# Convert each column to a 2D NumPy array (samples x timesteps)\n",
        "x_train_as_arrays = [np.array(x_train[col].to_list()) for col in columns]\n",
        "x_test_as_arrays = [np.array(x_test[col].to_list()) for col in columns]\n",
        "\n",
        "y_train_as_arrays = [np.array(y_train[col].to_list()) for col in targets]\n",
        "y_test_as_arrays = [np.array(y_test[col].to_list()) for col in targets]"
      ],
      "metadata": {
        "id": "5zkRCvvcsRuf"
      },
      "execution_count": 216,
      "outputs": []
    },
    {
      "cell_type": "code",
      "source": [
        "# Stack columns to create a 3D array (samples, timesteps, features)\n",
        "x_train = np.stack(x_train_as_arrays, axis=-1)\n",
        "x_test = np.stack(x_test_as_arrays, axis=-1)\n",
        "\n",
        "y_train = np.stack(y_train_as_arrays, axis=-1)\n",
        "y_test = np.stack(y_test_as_arrays, axis=-1)\n",
        "\n",
        "# Verify the shape of the final 3D array\n",
        "print(f\"x_train shape: {x_train.shape}\")  # Expected: (104837, timesteps, 14)\n",
        "print(f\"x_test shape: {x_test.shape}\")\n",
        "print(f\"y_train shape: {y_train.shape}\")\n",
        "print(f\"y_test shape: {y_test.shape}\")"
      ],
      "metadata": {
        "colab": {
          "base_uri": "https://localhost:8080/"
        },
        "id": "Rw2zO04utNNU",
        "outputId": "7dfe7e91-3f51-4c43-e0be-1104f2c93d74"
      },
      "execution_count": 217,
      "outputs": [
        {
          "output_type": "stream",
          "name": "stdout",
          "text": [
            "x_train shape: (117440, 7, 11)\n",
            "x_test shape: (6694, 7, 11)\n",
            "y_train shape: (117440, 7, 2)\n",
            "y_test shape: (6694, 7, 2)\n"
          ]
        }
      ]
    },
    {
      "cell_type": "markdown",
      "source": [
        "model"
      ],
      "metadata": {
        "id": "-eX0bLcNaEMV"
      }
    },
    {
      "cell_type": "code",
      "source": [
        "# Check GPU availability\n",
        "if tf.test.gpu_device_name():\n",
        "    print(f\"GPU disponibile: {tf.test.gpu_device_name()}\")\n",
        "else:\n",
        "    print(\"GPU non disponibile. L'esecuzione potrebbe essere più lenta.\")"
      ],
      "metadata": {
        "colab": {
          "base_uri": "https://localhost:8080/"
        },
        "id": "AOe6FDCmcMmf",
        "outputId": "b1dc710d-4696-4d88-a29e-d844a66e6b74"
      },
      "execution_count": 218,
      "outputs": [
        {
          "output_type": "stream",
          "name": "stdout",
          "text": [
            "GPU non disponibile. L'esecuzione potrebbe essere più lenta.\n"
          ]
        }
      ]
    },
    {
      "cell_type": "code",
      "source": [
        "# Class for the LSTM model\n",
        "class Lstm:\n",
        "    def __init__(self, learning_rate, sequence_length, num_features, dropout_rate=0.2):\n",
        "        self.learning_rate = learning_rate\n",
        "        self.sequence_length = sequence_length  # Number of timesteps in each sequence\n",
        "        self.num_features = num_features  # Number of features per timestep\n",
        "        self.dropout_rate = dropout_rate\n",
        "\n",
        "        # Define the LSTM-based model\n",
        "        self.model = tf.keras.Sequential([\n",
        "            tf.keras.layers.Input(shape=(self.sequence_length, self.num_features)),  # Input shape for LSTM\n",
        "            tf.keras.layers.LSTM(\n",
        "                50,  # Increased number of units for better learning\n",
        "                activation='relu',\n",
        "                return_sequences=True,\n",
        "                kernel_regularizer=tf.keras.regularizers.l2(0.01),  # L2 regularization\n",
        "                recurrent_dropout=self.dropout_rate  # Recurrent Dropout\n",
        "            ),\n",
        "            tf.keras.layers.Dropout(self.dropout_rate),  # Dropout for regularization\n",
        "            tf.keras.layers.BatchNormalization(),  # Batch Normalization to stabilize training\n",
        "            tf.keras.layers.TimeDistributed(tf.keras.layers.Dense(2, activation='linear'))  # Final output layer for each timestep\n",
        "        ])\n",
        "\n",
        "        # Define the loss function and optimizer\n",
        "        self.loss_function = tf.keras.losses.MeanSquaredError()\n",
        "        self.optimizer = tf.keras.optimizers.Adam(learning_rate=self.learning_rate)\n",
        "\n",
        "    def compile(self):\n",
        "        # Compile the model with optimizer, loss, and additional metrics\n",
        "        self.model.compile(optimizer=self.optimizer, loss=self.loss_function,\n",
        "                           metrics=[\"cosine_similarity\", tf.keras.metrics.MeanAbsoluteError()])\n",
        "\n",
        "    def get_model(self):\n",
        "        return self.model\n"
      ],
      "metadata": {
        "id": "aztCdkBWaGTV"
      },
      "execution_count": 284,
      "outputs": []
    },
    {
      "cell_type": "code",
      "source": [
        "# Usage example\n",
        "learning_rate = 0.01\n",
        "sequence_length = 7  # Number of timesteps in each sequence\n",
        "num_features = 11  # Number of features per timestep\n",
        "\n",
        "# Instantiate and compile the model\n",
        "lstm_model = Lstm(learning_rate, sequence_length, num_features)\n",
        "lstm_model.compile()\n",
        "\n",
        "# Summary of the model\n",
        "print(lstm_model.get_model().summary())"
      ],
      "metadata": {
        "colab": {
          "base_uri": "https://localhost:8080/",
          "height": 323
        },
        "id": "Y7iTRLqmcRJ6",
        "outputId": "46f1cc11-a375-4385-86e1-7faa524e1206"
      },
      "execution_count": 285,
      "outputs": [
        {
          "output_type": "display_data",
          "data": {
            "text/plain": [
              "\u001b[1mModel: \"sequential_8\"\u001b[0m\n"
            ],
            "text/html": [
              "<pre style=\"white-space:pre;overflow-x:auto;line-height:normal;font-family:Menlo,'DejaVu Sans Mono',consolas,'Courier New',monospace\"><span style=\"font-weight: bold\">Model: \"sequential_8\"</span>\n",
              "</pre>\n"
            ]
          },
          "metadata": {}
        },
        {
          "output_type": "display_data",
          "data": {
            "text/plain": [
              "┏━━━━━━━━━━━━━━━━━━━━━━━━━━━━━━━━━━━━━━┳━━━━━━━━━━━━━━━━━━━━━━━━━━━━━┳━━━━━━━━━━━━━━━━━┓\n",
              "┃\u001b[1m \u001b[0m\u001b[1mLayer (type)                        \u001b[0m\u001b[1m \u001b[0m┃\u001b[1m \u001b[0m\u001b[1mOutput Shape               \u001b[0m\u001b[1m \u001b[0m┃\u001b[1m \u001b[0m\u001b[1m        Param #\u001b[0m\u001b[1m \u001b[0m┃\n",
              "┡━━━━━━━━━━━━━━━━━━━━━━━━━━━━━━━━━━━━━━╇━━━━━━━━━━━━━━━━━━━━━━━━━━━━━╇━━━━━━━━━━━━━━━━━┩\n",
              "│ lstm_13 (\u001b[38;5;33mLSTM\u001b[0m)                       │ (\u001b[38;5;45mNone\u001b[0m, \u001b[38;5;34m7\u001b[0m, \u001b[38;5;34m50\u001b[0m)               │          \u001b[38;5;34m12,400\u001b[0m │\n",
              "├──────────────────────────────────────┼─────────────────────────────┼─────────────────┤\n",
              "│ dropout_2 (\u001b[38;5;33mDropout\u001b[0m)                  │ (\u001b[38;5;45mNone\u001b[0m, \u001b[38;5;34m7\u001b[0m, \u001b[38;5;34m50\u001b[0m)               │               \u001b[38;5;34m0\u001b[0m │\n",
              "├──────────────────────────────────────┼─────────────────────────────┼─────────────────┤\n",
              "│ batch_normalization_2                │ (\u001b[38;5;45mNone\u001b[0m, \u001b[38;5;34m7\u001b[0m, \u001b[38;5;34m50\u001b[0m)               │             \u001b[38;5;34m200\u001b[0m │\n",
              "│ (\u001b[38;5;33mBatchNormalization\u001b[0m)                 │                             │                 │\n",
              "├──────────────────────────────────────┼─────────────────────────────┼─────────────────┤\n",
              "│ time_distributed_15                  │ (\u001b[38;5;45mNone\u001b[0m, \u001b[38;5;34m7\u001b[0m, \u001b[38;5;34m2\u001b[0m)                │             \u001b[38;5;34m102\u001b[0m │\n",
              "│ (\u001b[38;5;33mTimeDistributed\u001b[0m)                    │                             │                 │\n",
              "└──────────────────────────────────────┴─────────────────────────────┴─────────────────┘\n"
            ],
            "text/html": [
              "<pre style=\"white-space:pre;overflow-x:auto;line-height:normal;font-family:Menlo,'DejaVu Sans Mono',consolas,'Courier New',monospace\">┏━━━━━━━━━━━━━━━━━━━━━━━━━━━━━━━━━━━━━━┳━━━━━━━━━━━━━━━━━━━━━━━━━━━━━┳━━━━━━━━━━━━━━━━━┓\n",
              "┃<span style=\"font-weight: bold\"> Layer (type)                         </span>┃<span style=\"font-weight: bold\"> Output Shape                </span>┃<span style=\"font-weight: bold\">         Param # </span>┃\n",
              "┡━━━━━━━━━━━━━━━━━━━━━━━━━━━━━━━━━━━━━━╇━━━━━━━━━━━━━━━━━━━━━━━━━━━━━╇━━━━━━━━━━━━━━━━━┩\n",
              "│ lstm_13 (<span style=\"color: #0087ff; text-decoration-color: #0087ff\">LSTM</span>)                       │ (<span style=\"color: #00d7ff; text-decoration-color: #00d7ff\">None</span>, <span style=\"color: #00af00; text-decoration-color: #00af00\">7</span>, <span style=\"color: #00af00; text-decoration-color: #00af00\">50</span>)               │          <span style=\"color: #00af00; text-decoration-color: #00af00\">12,400</span> │\n",
              "├──────────────────────────────────────┼─────────────────────────────┼─────────────────┤\n",
              "│ dropout_2 (<span style=\"color: #0087ff; text-decoration-color: #0087ff\">Dropout</span>)                  │ (<span style=\"color: #00d7ff; text-decoration-color: #00d7ff\">None</span>, <span style=\"color: #00af00; text-decoration-color: #00af00\">7</span>, <span style=\"color: #00af00; text-decoration-color: #00af00\">50</span>)               │               <span style=\"color: #00af00; text-decoration-color: #00af00\">0</span> │\n",
              "├──────────────────────────────────────┼─────────────────────────────┼─────────────────┤\n",
              "│ batch_normalization_2                │ (<span style=\"color: #00d7ff; text-decoration-color: #00d7ff\">None</span>, <span style=\"color: #00af00; text-decoration-color: #00af00\">7</span>, <span style=\"color: #00af00; text-decoration-color: #00af00\">50</span>)               │             <span style=\"color: #00af00; text-decoration-color: #00af00\">200</span> │\n",
              "│ (<span style=\"color: #0087ff; text-decoration-color: #0087ff\">BatchNormalization</span>)                 │                             │                 │\n",
              "├──────────────────────────────────────┼─────────────────────────────┼─────────────────┤\n",
              "│ time_distributed_15                  │ (<span style=\"color: #00d7ff; text-decoration-color: #00d7ff\">None</span>, <span style=\"color: #00af00; text-decoration-color: #00af00\">7</span>, <span style=\"color: #00af00; text-decoration-color: #00af00\">2</span>)                │             <span style=\"color: #00af00; text-decoration-color: #00af00\">102</span> │\n",
              "│ (<span style=\"color: #0087ff; text-decoration-color: #0087ff\">TimeDistributed</span>)                    │                             │                 │\n",
              "└──────────────────────────────────────┴─────────────────────────────┴─────────────────┘\n",
              "</pre>\n"
            ]
          },
          "metadata": {}
        },
        {
          "output_type": "display_data",
          "data": {
            "text/plain": [
              "\u001b[1m Total params: \u001b[0m\u001b[38;5;34m12,702\u001b[0m (49.62 KB)\n"
            ],
            "text/html": [
              "<pre style=\"white-space:pre;overflow-x:auto;line-height:normal;font-family:Menlo,'DejaVu Sans Mono',consolas,'Courier New',monospace\"><span style=\"font-weight: bold\"> Total params: </span><span style=\"color: #00af00; text-decoration-color: #00af00\">12,702</span> (49.62 KB)\n",
              "</pre>\n"
            ]
          },
          "metadata": {}
        },
        {
          "output_type": "display_data",
          "data": {
            "text/plain": [
              "\u001b[1m Trainable params: \u001b[0m\u001b[38;5;34m12,602\u001b[0m (49.23 KB)\n"
            ],
            "text/html": [
              "<pre style=\"white-space:pre;overflow-x:auto;line-height:normal;font-family:Menlo,'DejaVu Sans Mono',consolas,'Courier New',monospace\"><span style=\"font-weight: bold\"> Trainable params: </span><span style=\"color: #00af00; text-decoration-color: #00af00\">12,602</span> (49.23 KB)\n",
              "</pre>\n"
            ]
          },
          "metadata": {}
        },
        {
          "output_type": "display_data",
          "data": {
            "text/plain": [
              "\u001b[1m Non-trainable params: \u001b[0m\u001b[38;5;34m100\u001b[0m (400.00 B)\n"
            ],
            "text/html": [
              "<pre style=\"white-space:pre;overflow-x:auto;line-height:normal;font-family:Menlo,'DejaVu Sans Mono',consolas,'Courier New',monospace\"><span style=\"font-weight: bold\"> Non-trainable params: </span><span style=\"color: #00af00; text-decoration-color: #00af00\">100</span> (400.00 B)\n",
              "</pre>\n"
            ]
          },
          "metadata": {}
        },
        {
          "output_type": "stream",
          "name": "stdout",
          "text": [
            "None\n"
          ]
        }
      ]
    },
    {
      "cell_type": "markdown",
      "source": [
        "Training"
      ],
      "metadata": {
        "id": "eUMfVnJm0ZbR"
      }
    },
    {
      "cell_type": "code",
      "source": [
        "# Train the model\n",
        "history = lstm_model.get_model().fit(\n",
        "    x_train, y_train,\n",
        "    epochs=10,  # Adjust epochs as needed\n",
        "    batch_size=16,  # Batch size for training\n",
        "    validation_split=0.2  # Use 20% of the data for validation\n",
        ")"
      ],
      "metadata": {
        "colab": {
          "base_uri": "https://localhost:8080/"
        },
        "id": "muB3P-YhcqhS",
        "outputId": "c3cabff9-b91f-468a-fd11-ec46d879f970"
      },
      "execution_count": 286,
      "outputs": [
        {
          "output_type": "stream",
          "name": "stdout",
          "text": [
            "Epoch 1/10\n",
            "\u001b[1m5872/5872\u001b[0m \u001b[32m━━━━━━━━━━━━━━━━━━━━\u001b[0m\u001b[37m\u001b[0m \u001b[1m50s\u001b[0m 8ms/step - cosine_similarity: 0.7208 - loss: 0.7032 - mean_absolute_error: 0.0483 - val_cosine_similarity: 0.9803 - val_loss: 2.4575 - val_mean_absolute_error: 0.0638\n",
            "Epoch 2/10\n",
            "\u001b[1m5872/5872\u001b[0m \u001b[32m━━━━━━━━━━━━━━━━━━━━\u001b[0m\u001b[37m\u001b[0m \u001b[1m81s\u001b[0m 8ms/step - cosine_similarity: 0.7870 - loss: 0.6610 - mean_absolute_error: 0.0376 - val_cosine_similarity: 0.9888 - val_loss: 2.4577 - val_mean_absolute_error: 0.0626\n",
            "Epoch 3/10\n",
            "\u001b[1m5872/5872\u001b[0m \u001b[32m━━━━━━━━━━━━━━━━━━━━\u001b[0m\u001b[37m\u001b[0m \u001b[1m45s\u001b[0m 8ms/step - cosine_similarity: 0.7715 - loss: 0.8232 - mean_absolute_error: 0.0419 - val_cosine_similarity: 0.7960 - val_loss: 2.4597 - val_mean_absolute_error: 0.0707\n",
            "Epoch 4/10\n",
            "\u001b[1m5872/5872\u001b[0m \u001b[32m━━━━━━━━━━━━━━━━━━━━\u001b[0m\u001b[37m\u001b[0m \u001b[1m46s\u001b[0m 8ms/step - cosine_similarity: 0.7497 - loss: 0.7090 - mean_absolute_error: 0.0410 - val_cosine_similarity: 0.9734 - val_loss: 2.4582 - val_mean_absolute_error: 0.0638\n",
            "Epoch 5/10\n",
            "\u001b[1m5872/5872\u001b[0m \u001b[32m━━━━━━━━━━━━━━━━━━━━\u001b[0m\u001b[37m\u001b[0m \u001b[1m81s\u001b[0m 8ms/step - cosine_similarity: 0.7631 - loss: 0.7363 - mean_absolute_error: 0.0407 - val_cosine_similarity: 0.9904 - val_loss: 2.4590 - val_mean_absolute_error: 0.0876\n",
            "Epoch 6/10\n",
            "\u001b[1m5872/5872\u001b[0m \u001b[32m━━━━━━━━━━━━━━━━━━━━\u001b[0m\u001b[37m\u001b[0m \u001b[1m81s\u001b[0m 7ms/step - cosine_similarity: 0.7588 - loss: 0.6483 - mean_absolute_error: 0.0386 - val_cosine_similarity: 0.9885 - val_loss: 2.4576 - val_mean_absolute_error: 0.0657\n",
            "Epoch 7/10\n",
            "\u001b[1m5872/5872\u001b[0m \u001b[32m━━━━━━━━━━━━━━━━━━━━\u001b[0m\u001b[37m\u001b[0m \u001b[1m82s\u001b[0m 7ms/step - cosine_similarity: 0.7970 - loss: 0.5493 - mean_absolute_error: 0.0347 - val_cosine_similarity: 0.8581 - val_loss: 2.4574 - val_mean_absolute_error: 0.0638\n",
            "Epoch 8/10\n",
            "\u001b[1m5872/5872\u001b[0m \u001b[32m━━━━━━━━━━━━━━━━━━━━\u001b[0m\u001b[37m\u001b[0m \u001b[1m44s\u001b[0m 7ms/step - cosine_similarity: 0.7533 - loss: 0.7030 - mean_absolute_error: 0.0400 - val_cosine_similarity: 0.8277 - val_loss: 2.4566 - val_mean_absolute_error: 0.1479\n",
            "Epoch 9/10\n",
            "\u001b[1m5872/5872\u001b[0m \u001b[32m━━━━━━━━━━━━━━━━━━━━\u001b[0m\u001b[37m\u001b[0m \u001b[1m82s\u001b[0m 7ms/step - cosine_similarity: 0.7344 - loss: 0.6086 - mean_absolute_error: 0.0416 - val_cosine_similarity: 0.9867 - val_loss: 2.4648 - val_mean_absolute_error: 0.1171\n",
            "Epoch 10/10\n",
            "\u001b[1m5872/5872\u001b[0m \u001b[32m━━━━━━━━━━━━━━━━━━━━\u001b[0m\u001b[37m\u001b[0m \u001b[1m82s\u001b[0m 8ms/step - cosine_similarity: 0.7213 - loss: 0.5942 - mean_absolute_error: 0.0401 - val_cosine_similarity: 0.5313 - val_loss: 2.4565 - val_mean_absolute_error: 0.0685\n"
          ]
        }
      ]
    },
    {
      "cell_type": "code",
      "source": [
        "print(\"Input Data Statistics (x_train):\")\n",
        "print(f\"Mean: {x_train.mean()}, Std Dev: {x_train.std()}\")\n",
        "print(\"\\nTarget Data Statistics (y_train):\")\n",
        "print(f\"Mean: {y_train.mean()}, Std Dev: {y_train.std()}\")"
      ],
      "metadata": {
        "colab": {
          "base_uri": "https://localhost:8080/"
        },
        "id": "hAt_TPRmrnj9",
        "outputId": "2116243d-2af7-4ad3-d5ea-b6be8a9515d2"
      },
      "execution_count": 287,
      "outputs": [
        {
          "output_type": "stream",
          "name": "stdout",
          "text": [
            "Input Data Statistics (x_train):\n",
            "Mean: 2.8926407432344825, Std Dev: 4.029540675953805\n",
            "\n",
            "Target Data Statistics (y_train):\n",
            "Mean: 0.03314248069965891, Std Dev: 1.0281780184729161\n"
          ]
        }
      ]
    },
    {
      "cell_type": "markdown",
      "source": [
        "graph loss"
      ],
      "metadata": {
        "id": "1VXw7eOscTNq"
      }
    },
    {
      "cell_type": "code",
      "source": [
        "# Plot training history\n",
        "import matplotlib.pyplot as plt\n",
        "\n",
        "plt.figure(figsize=(12, 6))\n",
        "plt.plot(history.history['loss'], label='Loss')\n",
        "plt.plot(history.history['val_loss'], label='Validation Loss')\n",
        "plt.title('Model Loss')\n",
        "plt.xlabel('Epoch')\n",
        "plt.ylabel('Loss')\n",
        "plt.legend()\n",
        "plt.show()"
      ],
      "metadata": {
        "colab": {
          "base_uri": "https://localhost:8080/",
          "height": 564
        },
        "id": "nHQFnjLDcSst",
        "outputId": "6acf6025-b6bb-42da-b9b1-e4a0ab740607"
      },
      "execution_count": 288,
      "outputs": [
        {
          "output_type": "display_data",
          "data": {
            "text/plain": [
              "<Figure size 1200x600 with 1 Axes>"
            ],
            "image/png": "[encoded data removed]"
          },
          "metadata": {}
        }
      ]
    },
    {
      "cell_type": "markdown",
      "source": [
        "Evaluation"
      ],
      "metadata": {
        "id": "yC78si0T0dnT"
      }
    },
    {
      "cell_type": "code",
      "source": [
        "# Evaluate the model on test data\n",
        "test_loss, *test_metrics = lstm_model.get_model().evaluate(x_test, y_test, verbose=1)\n",
        "print(f\"Test Loss: {test_loss}\")\n",
        "for i, metric in enumerate(test_metrics):\n",
        "    print(f\"Test Metric {i+1}: {metric}\")"
      ],
      "metadata": {
        "id": "O84hczyq1X1r",
        "colab": {
          "base_uri": "https://localhost:8080/"
        },
        "outputId": "92bf12b5-6f6b-4eaa-9028-942c6b1e042e"
      },
      "execution_count": 289,
      "outputs": [
        {
          "output_type": "stream",
          "name": "stdout",
          "text": [
            "\u001b[1m210/210\u001b[0m \u001b[32m━━━━━━━━━━━━━━━━━━━━\u001b[0m\u001b[37m\u001b[0m \u001b[1m1s\u001b[0m 4ms/step - cosine_similarity: 0.5249 - loss: 4.3612e-04 - mean_absolute_error: 0.0120\n",
            "Test Loss: 0.0009280639351345599\n",
            "Test Metric 1: 0.5261459946632385\n",
            "Test Metric 2: 0.011773824691772461\n"
          ]
        }
      ]
    },
    {
      "cell_type": "markdown",
      "source": [
        "Prediction"
      ],
      "metadata": {
        "id": "fWcVaAPp16L9"
      }
    },
    {
      "cell_type": "code",
      "source": [
        "# Generate predictions\n",
        "y_pred = lstm_model.get_model().predict(x_test, verbose=1)\n",
        "\n",
        "print(f\"Predictions shape: {y_pred.shape}\")\n",
        "print(f\"First prediction: {y_pred[0]}\")\n"
      ],
      "metadata": {
        "colab": {
          "base_uri": "https://localhost:8080/"
        },
        "id": "4NrOs_Z70ekC",
        "outputId": "2cfb6894-c156-4693-9b0c-02f3673f2400"
      },
      "execution_count": 290,
      "outputs": [
        {
          "output_type": "stream",
          "name": "stdout",
          "text": [
            "\u001b[1m210/210\u001b[0m \u001b[32m━━━━━━━━━━━━━━━━━━━━\u001b[0m\u001b[37m\u001b[0m \u001b[1m1s\u001b[0m 4ms/step\n",
            "Predictions shape: (6694, 7, 2)\n",
            "First prediction: [[0.008 0.015]\n",
            " [0.008 0.015]\n",
            " [0.008 0.015]\n",
            " [0.008 0.015]\n",
            " [0.008 0.015]\n",
            " [0.008 0.015]\n",
            " [0.008 0.015]]\n"
          ]
        }
      ]
    },
    {
      "cell_type": "code",
      "source": [
        "print(f\"Predictions shape: {y_pred.shape}\")\n",
        "print(f\"First prediction: {y_pred[1]}\")"
      ],
      "metadata": {
        "colab": {
          "base_uri": "https://localhost:8080/"
        },
        "id": "Rvt-I-_EkdX_",
        "outputId": "5ffe8305-7a5b-40d4-fd72-ae9aea6c916c"
      },
      "execution_count": 291,
      "outputs": [
        {
          "output_type": "stream",
          "name": "stdout",
          "text": [
            "Predictions shape: (6694, 7, 2)\n",
            "First prediction: [[0.008 0.015]\n",
            " [0.008 0.015]\n",
            " [0.008 0.015]\n",
            " [0.008 0.015]\n",
            " [0.008 0.015]\n",
            " [0.008 0.015]\n",
            " [0.008 0.015]]\n"
          ]
        }
      ]
    },
    {
      "cell_type": "code",
      "source": [
        "# FEATURE 1\n",
        "\n",
        "# Step 1: Prendi la prima target feature (feature 1)\n",
        "y_pred_feature1 = y_pred[:, :, 0]  # Shape: (num_samples, timesteps)\n",
        "y_test_feature1 = y_test[:, :, 0]  # Shape: (num_samples, timesteps)\n",
        "\n",
        "# Step 2: Prendi il primo valore per ogni sequenza eccetto l'ultima\n",
        "first_values_pred = np.array([seq[0] for seq in y_pred_feature1[:-1]])\n",
        "first_values_actual = np.array([seq[0] for seq in y_test_feature1[:-1]])\n",
        "\n",
        "# Step 3: Aggiungi l'intera ultima sequenza\n",
        "last_sequence_pred = y_pred_feature1[-1]  # L'ultima sequenza completa\n",
        "last_sequence_actual = y_test_feature1[-1]  # L'ultima sequenza completa\n",
        "\n",
        "# Step 4: Combina i valori in un unico array\n",
        "new_array_pred = np.concatenate([first_values_pred, last_sequence_pred])\n",
        "new_array_actual = np.concatenate([first_values_actual, last_sequence_actual])"
      ],
      "metadata": {
        "id": "-AwZcCHE6t8-"
      },
      "execution_count": 292,
      "outputs": []
    },
    {
      "cell_type": "code",
      "source": [
        "print(new_array_pred)\n",
        "print(new_array_actual)"
      ],
      "metadata": {
        "colab": {
          "base_uri": "https://localhost:8080/"
        },
        "id": "NJYN4D7Qo7kX",
        "outputId": "f34d9c7d-52ec-459d-94c7-b328c72cf34f"
      },
      "execution_count": 293,
      "outputs": [
        {
          "output_type": "stream",
          "name": "stdout",
          "text": [
            "[0.008 0.008 0.008 ... 0.008 0.008 0.008]\n",
            "[0.026 0.034 0.017 ... 0.012 0.012 0.012]\n"
          ]
        }
      ]
    },
    {
      "cell_type": "code",
      "source": [
        "# FEATURE 2\n",
        "\n",
        "# Step 1: Prendi la prima target feature (feature 1)\n",
        "y_pred_feature2 = y_pred[:, :, 1]  # Shape: (num_samples, timesteps)\n",
        "y_test_feature2 = y_test[:, :, 1]  # Shape: (num_samples, timesteps)\n",
        "\n",
        "# Step 2: Prendi il primo valore per ogni sequenza eccetto l'ultima\n",
        "first_values_pred2 = np.array([seq[0] for seq in y_pred_feature2[:-1]])\n",
        "first_values_actual2 = np.array([seq[0] for seq in y_test_feature2[:-1]])\n",
        "\n",
        "# Step 3: Aggiungi l'intera ultima sequenza\n",
        "last_sequence_pred2 = y_pred_feature2[-1]  # L'ultima sequenza completa\n",
        "last_sequence_actual2 = y_test_feature2[-1]  # L'ultima sequenza completa\n",
        "\n",
        "# Step 4: Combina i valori in un unico array\n",
        "new_array_pred2 = np.concatenate([first_values_pred2, last_sequence_pred2])\n",
        "new_array_actual2 = np.concatenate([first_values_actual2, last_sequence_actual2])"
      ],
      "metadata": {
        "id": "mh4-porAiN_A"
      },
      "execution_count": 294,
      "outputs": []
    },
    {
      "cell_type": "code",
      "source": [
        "print(new_array_pred2)\n",
        "print(new_array_actual2)"
      ],
      "metadata": {
        "colab": {
          "base_uri": "https://localhost:8080/"
        },
        "id": "md5hjcdbpE9d",
        "outputId": "8549089d-8616-4c73-e43f-e9388ec990df"
      },
      "execution_count": 295,
      "outputs": [
        {
          "output_type": "stream",
          "name": "stdout",
          "text": [
            "[0.015 0.015 0.015 ... 0.015 0.015 0.015]\n",
            "[0.001 0.001 0.001 ... 0.001 0.001 0.001]\n"
          ]
        }
      ]
    },
    {
      "cell_type": "code",
      "source": [
        "import numpy as np\n",
        "import matplotlib.pyplot as plt\n",
        "\n",
        "# Grafico\n",
        "plt.figure(figsize=(20, 6))\n",
        "plt.plot(timestamps[6600:], new_array_actual[6600:-7], label='Actual Feature 1', color='blue')\n",
        "plt.plot(timestamps[6600:], new_array_pred[6600:-7], label='Predicted Feature 1', linestyle='dashed', color='orange')\n",
        "\n",
        "# Personalizzazione del grafico\n",
        "plt.title(\"Evoluzione nel tempo della Target Feature 1\")\n",
        "plt.xlabel(\"Timestamp\")\n",
        "plt.ylabel(\"Valore della Target Feature 1\")\n",
        "plt.xticks(rotation=90)  # Rotazione dei timestamp per leggibilità\n",
        "plt.legend()\n",
        "plt.grid()\n",
        "plt.tight_layout()  # Per evitare sovrapposizioni\n",
        "plt.show()\n"
      ],
      "metadata": {
        "id": "w8MlyN19HPEO",
        "colab": {
          "base_uri": "https://localhost:8080/",
          "height": 553
        },
        "outputId": "9341dba4-ad2e-4d55-d5c7-a37a9f4a3c4a"
      },
      "execution_count": 296,
      "outputs": [
        {
          "output_type": "display_data",
          "data": {
            "text/plain": [
              "<Figure size 2000x600 with 1 Axes>"
            ],
            "image/png": "[encoded data removed]"
          },
          "metadata": {}
        }
      ]
    },
    {
      "cell_type": "code",
      "source": [
        "import numpy as np\n",
        "import matplotlib.pyplot as plt\n",
        "\n",
        "# Grafico\n",
        "plt.figure(figsize=(20, 6))\n",
        "plt.plot(timestamps[6600:], new_array_actual2[6600:-7], label='Actual Feature 2', color='blue')\n",
        "plt.plot(timestamps[6600:], new_array_pred2[6600:-7], label='Predicted Feature 2', linestyle='dashed', color='orange')\n",
        "\n",
        "# Personalizzazione del grafico\n",
        "plt.title(\"Evoluzione nel tempo della Target Feature 2\")\n",
        "plt.xlabel(\"Timestamp\")\n",
        "plt.ylabel(\"Valore della Target Feature 2\")\n",
        "plt.xticks(rotation=90)  # Rotazione dei timestamp per leggibilità\n",
        "plt.legend()\n",
        "plt.grid()\n",
        "plt.tight_layout()  # Per evitare sovrapposizioni\n",
        "plt.show()"
      ],
      "metadata": {
        "colab": {
          "base_uri": "https://localhost:8080/",
          "height": 553
        },
        "id": "t0kB_uWkj7-Z",
        "outputId": "23961458-0f9a-4606-9c15-d185177d3293"
      },
      "execution_count": 297,
      "outputs": [
        {
          "output_type": "display_data",
          "data": {
            "text/plain": [
              "<Figure size 2000x600 with 1 Axes>"
            ],
            "image/png": "[encoded data removed]"
          },
          "metadata": {}
        }
      ]
    },
    {
      "cell_type": "code",
      "source": [],
      "metadata": {
        "id": "fvCEJ1CCKmNr"
      },
      "execution_count": null,
      "outputs": []
    }
  ]
}